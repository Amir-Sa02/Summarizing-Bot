{
 "cells": [
  {
   "cell_type": "markdown",
   "id": "9d4c823b-f7df-4f79-81fa-2d50f0847af9",
   "metadata": {},
   "source": [
    "# Text Summarization Using OpenAI s GPT 4"
   ]
  },
  {
   "cell_type": "markdown",
   "id": "a4dc67be-30fb-4818-9008-780516649ece",
   "metadata": {},
   "source": [
    "## Importing Libraries"
   ]
  },
  {
   "cell_type": "code",
   "execution_count": null,
   "id": "76900206-f2fa-4d44-a4ea-1be81d29b65a",
   "metadata": {},
   "outputs": [],
   "source": [
    "import os\n",
    "import requests\n",
    "from dotenv import load_dotenv\n",
    "from bs4 import BeautifulSoup\n",
    "from IPython.display import Markdown, display"
   ]
  },
  {
   "cell_type": "markdown",
   "id": "e854b3d3-2f30-43d9-a6a2-499d10a6ed21",
   "metadata": {},
   "source": [
    "## Connecting to OpenAI\n",
    "load_dotenv(override=True):\n",
    "This argument means that if an environment variable is already set in the system, its value will be replaced with the value from the .env file. Without this flag, existing environment variables would remain unchanged.\n",
    "\n",
    "os.getenv('OPEN_AI_KEY'):\n",
    "The line api_key = os.getenv('OPENAI_API_KEY') fetches the value of the OPENAI_API_KEY environment variable (which should have been loaded from the .env file)."
   ]
  },
  {
   "cell_type": "code",
   "execution_count": null,
   "id": "c3ff94a1-f456-42d5-957a-224600127104",
   "metadata": {},
   "outputs": [],
   "source": [
    "# Load environment variables in a file called .env\n",
    "load_dotenv(override=True)\n",
    "api_key = os.getenv('OPENAI_API_KEY')\n",
    "\n",
    "if not api_key:\n",
    "    print(\"No API key was found\")\n",
    "elif not api_key.startswith(\"sk-proj-\"):\n",
    "    print(\"An API key was found, but it doesn't start sk-proj-\")\n",
    "elif api_key.strip() != api_key:\n",
    "    print(\"An API key was found, but it looks like it might have space or tab characters at the start or end\")\n",
    "else:\n",
    "    print(\"API key found!\")"
   ]
  },
  {
   "cell_type": "markdown",
   "id": "64085655-7af0-4d21-8efe-92a3ef71f197",
   "metadata": {},
   "source": [
    "## Making an instance for OpenAI class"
   ]
  },
  {
   "cell_type": "code",
   "execution_count": null,
   "id": "ac618b57-0965-43b4-92b5-930fa8f177c1",
   "metadata": {},
   "outputs": [],
   "source": [
    "from openai import OpenAI\n",
    "openai = OpenAI()"
   ]
  },
  {
   "cell_type": "markdown",
   "id": "c5d05669-2f1c-4c0a-83fa-a93b6b89b0f2",
   "metadata": {},
   "source": [
    "##  fetching, Parsing, and Extracting Useful Information from a Webpage URL\n",
    "\n",
    "headers = {\"User-Agent\": \"...\"}:\n",
    "\n",
    "By setting this header, the code mimics a request coming from a modern browser, which helps avoid potential blocking or serving of altered content.\n",
    "\n",
    "def __init__(self, url):\n",
    "\n",
    "The constructor (__init__) is responsible for initializing a new instance of the Website class. It takes one parameter, url, which is the address of the webpage to be processed.\n",
    "\n",
    "NOTE: Constructors in Python is a special class method for creating and initializing an object instance at that class. Every Python class has a constructor\n",
    "\n",
    "\n",
    "response = requests.get(url, headers=headers)\n",
    "\n",
    "Explanation:\n",
    "\n",
    ". The requests.get() function is used to send an HTTP GET request to the specified URL.\n",
    "\n",
    ". The custom headers are passed along to mimic a real browser.\n",
    "\n",
    ". The response from the website, which includes the HTML content, is stored in the variable response.\n",
    "\n",
    "\n",
    "soup = BeautifulSoup(response.content, 'html.parser')\n",
    "\n",
    "Explanation:\n",
    "\n",
    "What is parsing? Transforming code into a machine-readable format\n",
    "\n",
    ". The HTML content (response.content) is parsed using BeautifulSoup, a popular library for parsing HTML and XML documents.\n",
    "\n",
    ". The 'html.parser' tells BeautifulSoup to use Python's built-in HTML parser.\n",
    "\n",
    ". The resulting parsed document is stored in the variable soup.\n",
    "\n",
    "self.title = soup.title.string if soup.title else \"No title found\"\n",
    "\n",
    "Explanation:\n",
    "\n",
    ". The code checks if the parsed HTML (soup) contains a <title> tag.\n",
    "\n",
    ". If it exists, soup.title.string extracts the text within the <title> tag.\n",
    "\n",
    ". If there is no <title> tag, it defaults to \"No title found\".\n",
    "\n",
    ". The resulting title is stored in the instance attribute self.title.\n",
    "\n"
   ]
  },
  {
   "cell_type": "code",
   "execution_count": null,
   "id": "acc155b5-55b2-48c7-9cca-65ae9011f3e7",
   "metadata": {},
   "outputs": [],
   "source": [
    "headers = {\n",
    "    \"User-Agent\": \"Mozilla/5.0 (Windows NT 10.0; Win64; x64) AppleWebKit/537.36 (KHTML, like Gecko) Chrome/117.0.0.0 Safari/537.36\"\n",
    "}\n",
    "\n",
    "class Website:\n",
    "    def __init__(self, url):\n",
    "        \"\"\"\n",
    "        Create this Website object from the given url using the BeautifulSoup library\n",
    "        \"\"\"\n",
    "        self.url = url\n",
    "        response = requests.get(url, headers=headers)\n",
    "        soup = BeautifulSoup(response.content, 'html.parser')\n",
    "        self.title = soup.title.string if soup.title else \"No title found\"\n",
    "\n",
    "        #Removing Irrelevant Elements\n",
    "        for irrelevant in soup.body([\"script\",'style','img','input']):\n",
    "            irrelevant.decompose()\n",
    "        \n",
    "        #Extracting the Cleaned Text\n",
    "        self.text = soup.body.get_text(separator=\"\\n\", strip=True)"
   ]
  },
  {
   "cell_type": "markdown",
   "id": "774d33f6-7cd6-4bd3-bcbc-e28d5ba9e046",
   "metadata": {},
   "source": [
    "## Defining a website"
   ]
  },
  {
   "cell_type": "code",
   "execution_count": null,
   "id": "4dd95b84-e2c2-4a75-8be0-375ae7a238c1",
   "metadata": {},
   "outputs": [],
   "source": [
    "ed = Website(\"your_desired_webiste\")\n",
    "print(ed.title)\n",
    "print(ed.text)"
   ]
  },
  {
   "cell_type": "markdown",
   "id": "f6ab1a62-648a-40ae-b5eb-e29caaa6ecee",
   "metadata": {},
   "source": [
    "## Types of prompts\n",
    "\n",
    "Models like GPT4o have been trained to receive instructions in a particular way.\n",
    "\n",
    "They expect to receive:\n",
    "\n",
    "A system prompt that tells them what task they are performing and what tone they should use\n",
    "\n",
    "A user prompt -- the conversation starter that they should reply to"
   ]
  },
  {
   "cell_type": "markdown",
   "id": "0fcab6f2-b912-4946-ba56-cf2468557742",
   "metadata": {},
   "source": [
    "## Defining the system prompt"
   ]
  },
  {
   "cell_type": "code",
   "execution_count": null,
   "id": "554086c0-319a-4d14-9242-68169b4bf66b",
   "metadata": {},
   "outputs": [],
   "source": [
    "system_prompt = \"You are an assistant that analyzes the contents of a website \\\n",
    "and provides a short summary, ignoring text that might be navigation related. \\\n",
    "Respond in markdown.\""
   ]
  },
  {
   "cell_type": "markdown",
   "id": "4fd28dc7-9c42-46c6-9d87-50d8631400a8",
   "metadata": {},
   "source": [
    "## Defining User prompt"
   ]
  },
  {
   "cell_type": "code",
   "execution_count": null,
   "id": "b7c61006-baf1-49e3-a303-a668bb288061",
   "metadata": {},
   "outputs": [],
   "source": [
    "def user_prompt_for(website):\n",
    "    user_prompt = f\"You are looking at a website titled: {website.title}\"\n",
    "    user_prompt += \"\\nThe contents of this website is as follows; \\\n",
    "please provide a short summary of this website in markdown. \\\n",
    "If it includes news or announcements, then summarize these too.\\n\\n\"\n",
    "    user_prompt += website.text\n",
    "    return user_prompt"
   ]
  },
  {
   "cell_type": "code",
   "execution_count": null,
   "id": "d5dadb23-688d-405c-a45d-2956a89274d6",
   "metadata": {},
   "outputs": [],
   "source": [
    "print(user_prompt_for(ed))"
   ]
  },
  {
   "cell_type": "markdown",
   "id": "5338987f-7123-4e51-8103-e8ac1ecc4a58",
   "metadata": {},
   "source": [
    "## Messages\n",
    "The API from OpenAI expects to receive messages in a particular structure. Many of the other APIs share this structure:\n",
    "\n",
    "[\n",
    "    {\"role\": \"system\", \"content\": \"system message goes here\"},\n",
    "    {\"role\": \"user\", \"content\": \"user message goes here\"}\n",
    "]\n",
    "\n",
    "To give you a preview, the next 2 cells make a rather simple call - we won't stretch the mighty GPT (yet!)"
   ]
  },
  {
   "cell_type": "markdown",
   "id": "48b85057-6f89-419e-b461-ffed1864c450",
   "metadata": {},
   "source": [
    "## Defining a message for the model (GPT-4o-mini)"
   ]
  },
  {
   "cell_type": "code",
   "execution_count": null,
   "id": "d4587a46-2f0a-4d23-b958-0b8f6e1dd7ab",
   "metadata": {},
   "outputs": [],
   "source": [
    "def messages_for(website):\n",
    "    return [\n",
    "        {\"role\": \"system\", \"content\": system_prompt},\n",
    "        {\"role\": \"user\", \"content\": user_prompt_for(website)}\n",
    "    ]"
   ]
  },
  {
   "cell_type": "code",
   "execution_count": null,
   "id": "c5ee589b-2ab3-4b9e-aa01-f24600dd4aad",
   "metadata": {},
   "outputs": [],
   "source": [
    "message_for(ed)"
   ]
  },
  {
   "cell_type": "markdown",
   "id": "a1a0de5f-430e-4c93-a2ea-9df1d0821940",
   "metadata": {},
   "source": [
    "## Calling openAI API"
   ]
  },
  {
   "cell_type": "code",
   "execution_count": null,
   "id": "3bbf3668-4ffc-4cbc-b315-2611567237e8",
   "metadata": {},
   "outputs": [],
   "source": [
    "def summarize(url):\n",
    "    website = Website(url)\n",
    "    response = openai.chat.completions.create(\n",
    "        model = \"gpt-4o-mini\",\n",
    "        messages = messages_for(website)\n",
    "    )\n",
    "    return response.choices[0].message.content"
   ]
  },
  {
   "cell_type": "code",
   "execution_count": null,
   "id": "ce741ab3-d661-4cc4-b735-e0416ccd516c",
   "metadata": {},
   "outputs": [],
   "source": [
    "summarize(\"your_desired_webiste\")"
   ]
  },
  {
   "cell_type": "markdown",
   "id": "7d17e972-210b-410a-91a1-39d20791985f",
   "metadata": {},
   "source": [
    "## Displaying using markdown"
   ]
  },
  {
   "cell_type": "code",
   "execution_count": null,
   "id": "5aab229c-6074-4b9a-8c8e-dc80a2832da2",
   "metadata": {},
   "outputs": [],
   "source": [
    "def display_summary(url):\n",
    "    summary = summariz(url)\n",
    "    display(Markdown(summary))"
   ]
  },
  {
   "cell_type": "code",
   "execution_count": null,
   "id": "5dc3fd5a-dc8e-4957-be76-45cac0f47bab",
   "metadata": {},
   "outputs": [],
   "source": [
    "display_summary(\"your_desired_webiste\")"
   ]
  }
 ],
 "metadata": {
  "kernelspec": {
   "display_name": "Python 3 (ipykernel)",
   "language": "python",
   "name": "python3"
  },
  "language_info": {
   "codemirror_mode": {
    "name": "ipython",
    "version": 3
   },
   "file_extension": ".py",
   "mimetype": "text/x-python",
   "name": "python",
   "nbconvert_exporter": "python",
   "pygments_lexer": "ipython3",
   "version": "3.11.11"
  }
 },
 "nbformat": 4,
 "nbformat_minor": 5
}
